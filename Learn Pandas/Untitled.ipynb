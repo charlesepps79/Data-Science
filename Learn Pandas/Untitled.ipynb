{
 "cells": [
  {
   "cell_type": "code",
   "execution_count": 1,
   "metadata": {
    "collapsed": true
   },
   "outputs": [],
   "source": [
    "# Import libraries\n",
    "# Import libraries\n",
    "## all imports\n",
    "%matplotlib inline\n",
    "from IPython.display import HTML\n",
    "from pandas import DataFrame\n",
    "from pandas import Series\n",
    "from pypac import PACSession\n",
    "from secret import *\n",
    "from sqlalchemy import create_engine, MetaData, Table, select, engine\n",
    "import _pickle\n",
    "import bs4 #this is beautiful soup\n",
    "import csv\n",
    "import io\n",
    "import matplotlib\n",
    "import matplotlib.pyplot as plt\n",
    "import numpy as np\n",
    "import operator\n",
    "import pandas as pd\n",
    "import re # regular expressions\n",
    "import seaborn as sns\n",
    "import socket\n",
    "import sys\n",
    "import time\n",
    "import urllib.error\n",
    "import urllib.request\n",
    "session = PACSession()\n",
    "sns.set_context(\"talk\")\n",
    "sns.set_style(\"white\")\n",
    "%matplotlib inline"
   ]
  },
  {
   "cell_type": "code",
   "execution_count": null,
   "metadata": {
    "collapsed": true
   },
   "outputs": [],
   "source": []
  }
 ],
 "metadata": {
  "kernelspec": {
   "display_name": "Python 3",
   "language": "python",
   "name": "python3"
  },
  "language_info": {
   "codemirror_mode": {
    "name": "ipython",
    "version": 3
   },
   "file_extension": ".py",
   "mimetype": "text/x-python",
   "name": "python",
   "nbconvert_exporter": "python",
   "pygments_lexer": "ipython3",
   "version": "3.6.2"
  }
 },
 "nbformat": 4,
 "nbformat_minor": 2
}
